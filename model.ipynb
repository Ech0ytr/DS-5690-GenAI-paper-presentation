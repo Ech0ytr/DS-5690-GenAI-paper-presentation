{
 "cells": [
  {
   "cell_type": "code",
   "execution_count": 3,
   "id": "5ee15c1d",
   "metadata": {},
   "outputs": [],
   "source": [
    "# GLU Variants FFN Output Statistics\n",
    "# Implements six FFN variants and prints output stats using PyTorch\n",
    "\n",
    "import torch\n",
    "import torch.nn as nn\n",
    "import torch.nn.functional as F\n",
    "\n",
    "# Sample input tensor\n",
    "x = torch.randn(2, 768)  # batch_size=2, d_model=768\n",
    "\n",
    "# Utility function to compute output statistics\n",
    "def output_stats(model, x):\n",
    "    with torch.no_grad():\n",
    "        out = model(x)\n",
    "    return {\n",
    "        \"mean\": out.mean().item(),\n",
    "        \"std\": out.std().item(),\n",
    "        \"min\": out.min().item(),\n",
    "        \"max\": out.max().item()\n",
    "    }\n"
   ]
  },
  {
   "cell_type": "code",
   "execution_count": 4,
   "id": "86e79b80",
   "metadata": {},
   "outputs": [],
   "source": [
    "# 1. Baseline FFN with ReLU\n",
    "class FFNReLU(nn.Module):\n",
    "    def __init__(self):\n",
    "        super().__init__()\n",
    "        self.w1 = nn.Linear(768, 3072)\n",
    "        self.w2 = nn.Linear(3072, 768)\n",
    "\n",
    "    def forward(self, x):\n",
    "        return self.w2(F.relu(self.w1(x)))\n"
   ]
  },
  {
   "cell_type": "code",
   "execution_count": 5,
   "id": "ef67f732",
   "metadata": {},
   "outputs": [],
   "source": [
    "# 2. FFN with GELU\n",
    "class FFNGELU(nn.Module):\n",
    "    def __init__(self):\n",
    "        super().__init__()\n",
    "        self.w1 = nn.Linear(768, 3072)\n",
    "        self.w2 = nn.Linear(3072, 768)\n",
    "\n",
    "    def forward(self, x):\n",
    "        return self.w2(F.gelu(self.w1(x)))\n"
   ]
  },
  {
   "cell_type": "code",
   "execution_count": 6,
   "id": "4d83e6aa",
   "metadata": {},
   "outputs": [],
   "source": [
    "# 3. FFN with GLU\n",
    "class FFNGLU(nn.Module):\n",
    "    def __init__(self):\n",
    "        super().__init__()\n",
    "        self.w = nn.Linear(768, 2048)\n",
    "        self.v = nn.Linear(768, 2048)\n",
    "        self.w2 = nn.Linear(2048, 768)\n",
    "\n",
    "    def forward(self, x):\n",
    "        gate = self.w(x)\n",
    "        value = self.v(x)\n",
    "        return self.w2(gate * value)\n"
   ]
  },
  {
   "cell_type": "code",
   "execution_count": 7,
   "id": "fa069e67",
   "metadata": {},
   "outputs": [],
   "source": [
    "# 4. FFN with Bilinear\n",
    "class FFNBilinear(nn.Module):\n",
    "    def __init__(self):\n",
    "        super().__init__()\n",
    "        self.w = nn.Linear(768, 2048)\n",
    "        self.v = nn.Linear(768, 2048)\n",
    "        self.w2 = nn.Linear(2048, 768)\n",
    "\n",
    "    def forward(self, x):\n",
    "        return self.w2(self.w(x) * self.v(x))"
   ]
  },
  {
   "cell_type": "code",
   "execution_count": 8,
   "id": "3dd0a97c",
   "metadata": {},
   "outputs": [],
   "source": [
    "# 5. FFN with GEGLU\n",
    "class FFNGEGLU(nn.Module):\n",
    "    def __init__(self):\n",
    "        super().__init__()\n",
    "        self.w = nn.Linear(768, 2048)\n",
    "        self.v = nn.Linear(768, 2048)\n",
    "        self.w2 = nn.Linear(2048, 768)\n",
    "\n",
    "    def forward(self, x):\n",
    "        gate = F.gelu(self.w(x))\n",
    "        value = self.v(x)\n",
    "        return self.w2(gate * value)\n"
   ]
  },
  {
   "cell_type": "code",
   "execution_count": 9,
   "id": "0dfb25f2",
   "metadata": {},
   "outputs": [],
   "source": [
    "# 6. FFN with SwiGLU\n",
    "class FFNSwiGLU(nn.Module):\n",
    "    def __init__(self):\n",
    "        super().__init__()\n",
    "        self.w = nn.Linear(768, 2048)\n",
    "        self.v = nn.Linear(768, 2048)\n",
    "        self.w2 = nn.Linear(2048, 768)\n",
    "\n",
    "    def swish(self, x):\n",
    "        return x * torch.sigmoid(x)\n",
    "\n",
    "    def forward(self, x):\n",
    "        gate = self.swish(self.w(x))\n",
    "        value = self.v(x)\n",
    "        return self.w2(gate * value)\n"
   ]
  },
  {
   "cell_type": "code",
   "execution_count": 12,
   "id": "f6bb8708",
   "metadata": {},
   "outputs": [
    {
     "name": "stdout",
     "output_type": "stream",
     "text": [
      "FFNReLU Output Statistics:\n",
      "  mean: 0.0098\n",
      "  std: 0.2458\n",
      "  min: -0.7638\n",
      "  max: 0.7390\n",
      "\n",
      "FFNGELU Output Statistics:\n",
      "  mean: -0.0058\n",
      "  std: 0.2092\n",
      "  min: -0.6795\n",
      "  max: 0.5599\n",
      "\n",
      "FFNGLU Output Statistics:\n",
      "  mean: -0.0003\n",
      "  std: 0.2020\n",
      "  min: -0.7058\n",
      "  max: 0.8357\n",
      "\n",
      "FFNBilinear Output Statistics:\n",
      "  mean: 0.0012\n",
      "  std: 0.1969\n",
      "  min: -0.6839\n",
      "  max: 0.6964\n",
      "\n",
      "FFNGEGLU Output Statistics:\n",
      "  mean: 0.0018\n",
      "  std: 0.1248\n",
      "  min: -0.4356\n",
      "  max: 0.3517\n",
      "\n",
      "FFNSwiGLU Output Statistics:\n",
      "  mean: 0.0002\n",
      "  std: 0.1018\n",
      "  min: -0.3763\n",
      "  max: 0.3306\n",
      "\n"
     ]
    }
   ],
   "source": [
    "# Instantiate models\n",
    "models = {\n",
    "    \"FFNReLU\": FFNReLU(),\n",
    "    \"FFNGELU\": FFNGELU(),\n",
    "    \"FFNGLU\": FFNGLU(),\n",
    "    \"FFNBilinear\": FFNBilinear(),\n",
    "    \"FFNGEGLU\": FFNGEGLU(),\n",
    "    \"FFNSwiGLU\": FFNSwiGLU()\n",
    "}\n",
    "# Print output statistics\n",
    "for name, model in models.items():\n",
    "    stats = output_stats(model, x)\n",
    "    print(f\"{name} Output Statistics:\")\n",
    "    for k, v in stats.items():\n",
    "        print(f\"  {k}: {v:.4f}\")\n",
    "    print()\n"
   ]
  }
 ],
 "metadata": {
  "kernelspec": {
   "display_name": "base",
   "language": "python",
   "name": "python3"
  },
  "language_info": {
   "codemirror_mode": {
    "name": "ipython",
    "version": 3
   },
   "file_extension": ".py",
   "mimetype": "text/x-python",
   "name": "python",
   "nbconvert_exporter": "python",
   "pygments_lexer": "ipython3",
   "version": "3.12.2"
  }
 },
 "nbformat": 4,
 "nbformat_minor": 5
}
